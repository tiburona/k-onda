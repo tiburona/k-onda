{
 "cells": [
  {
   "cell_type": "markdown",
   "id": "b8040c1a-3462-422c-bd9b-c641eb7b01a5",
   "metadata": {},
   "source": [
    "First simulate a single neuron (unit) from a single animal. The experiment configuration is already present in a JSON file in the same directory as this notebok.  It imagines an experiment in which there were 5 stim periods of duration 10 seconds, starting at seconds 20, 40, 60, 80, and 100, and for each of those stim periods there were 10 stim events, starting every second."
   ]
  },
  {
   "cell_type": "code",
   "execution_count": null,
   "id": "02db445b",
   "metadata": {
    "vscode": {
     "languageId": "plaintext"
    }
   },
   "outputs": [],
   "source": [
    "# demo/k_onda_demo.ipynb\n",
    "\n",
    "import sys\n",
    "from pathlib import Path\n",
    "\n",
    "REPO_ROOT = Path.cwd().parents[0]\n",
    "sys.path.insert(0, str(REPO_ROOT))\n",
    "\n",
    "from k_onda.main import run_pipeline\n",
    "import json, random\n",
    "\n",
    "\n",
    "CONFIG_PATH = Path(\"config.json\")\n",
    "\n",
    "DURATION_SECONDS = 100\n",
    "FIRING_RATE_SPS = 10\n",
    "NUM_SPIKES = DURATION_SECONDS * FIRING_RATE_SPS\n",
    "random.seed(42)\n",
    "spike_times = sorted(random.uniform(0, DURATION_SECONDS) for _ in range(NUM_SPIKES))\n",
    "\n",
    "with open(CONFIG_PATH, \"r+\", encoding=\"utf-8\") as f:\n",
    "    config = json.load(f)\n",
    "    unit = config[\"animals\"][0][\"units\"][\"good\"][0]\n",
    "    unit[\"spike_times\"] = [round(t, 4) for t in spike_times]\n",
    "    unit[\"firing_rate\"] = round(len(spike_times) / DURATION_SECONDS, 2)\n",
    "    f.seek(0)\n",
    "    json.dump(config, f, indent=2)\n",
    "    f.truncate()"
   ]
  },
  {
   "cell_type": "markdown",
   "id": "f391e4dd-97aa-4a0c-a780-05be81c15b64",
   "metadata": {},
   "source": [
    "Now configure the calculation we are going to do and the plot we are going to make. The following configuration averages first over events, then over periods, to produce a peristimulus time histogram."
   ]
  },
  {
   "cell_type": "code",
   "execution_count": 1,
   "id": "5df64bff",
   "metadata": {
    "vscode": {
     "languageId": "plaintext"
    }
   },
   "outputs": [],
   "source": [
    "psth_plot = {\n",
    "    'plot_type': 'psth',\n",
    "    'section': {\n",
    "        'attr': 'calc',\n",
    "        'aesthetics': {\n",
    "            'ax': {'border': {'top': {'visible': 'FFF'}, 'right': {'visible': 'FFF'}}},\n",
    "            'default': {\n",
    "                'marker': {'color': '#1f77b4'},\n",
    "                'indicator': {'type': 'patch', 'when': (0, .05)}}},\n",
    "        'label': {'x_bottom': {'text': 'Seconds'},\n",
    "                  'y_left': {'text': 'Firing Rate (Spikes per Second)'},\n",
    "                  'title': {'text': 'Peristimulus Time Histogram', 'kwargs': {'y': 1.05}}},\n",
    "        'divisions': [{'divider_type': 'period_type', 'members': ['stim']}]\n",
    "    }\n",
    "}\n",
    "\n",
    "PSTH_OPTS = {\n",
    "    \n",
    "    'procedure': 'make_plots',\n",
    "    'plot_spec': psth_plot,\n",
    "    'write_opts': './psth',\n",
    "    'calc_opts': {'kind_of_data': 'spike', 'calc_type': 'firing_rates',\n",
    "                  'base': 'event', 'bin_size': .01, \n",
    "                  'periods': {'stim': {'period_pre_post': (1, 0), 'event_pre_post': (.05, 1)}} \n",
    "    }}"
   ]
  },
  {
   "cell_type": "markdown",
   "id": "818ba088-21a5-41b7-b361-1414feba406e",
   "metadata": {},
   "source": [
    "Now run the pipeline.  The grey patch represents the imagined duration of the simulus (.05s)."
   ]
  },
  {
   "cell_type": "code",
   "execution_count": 4,
   "id": "2a4d2c10",
   "metadata": {
    "vscode": {
     "languageId": "plaintext"
    }
   },
   "outputs": [
    {
     "data": {
      "image/png": "[encoded data removed]",
      "text/plain": [
       "<Figure size 640x480 with 1 Axes>"
      ]
     },
     "metadata": {},
     "output_type": "display_data"
    }
   ],
   "source": [
    "run_pipeline(config_file=CONFIG_PATH, opts=PSTH_OPTS)"
   ]
  }
 ],
 "metadata": {
  "kernelspec": {
   "display_name": "Python 3 (ipykernel)",
   "language": "python",
   "name": "python3"
  },
  "language_info": {
   "codemirror_mode": {
    "name": "ipython",
    "version": 3
   },
   "file_extension": ".py",
   "mimetype": "text/x-python",
   "name": "python",
   "nbconvert_exporter": "python",
   "pygments_lexer": "ipython3",
   "version": "3.11.7"
  }
 },
 "nbformat": 4,
 "nbformat_minor": 5
}
